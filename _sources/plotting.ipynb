{
 "cells": [
  {
   "cell_type": "markdown",
   "metadata": {},
   "source": [
    "# Testing Interactive Plotting"
   ]
  },
  {
   "cell_type": "markdown",
   "metadata": {},
   "source": [
    "Let's render some maths:\n",
    "$\n",
    "\\mathcal{L}_X \\omega = \\textbf{i}_X \\textbf{d} \\omega + \\textbf{d} \\textbf{i}_X \\omega\n",
    "$"
   ]
  },
  {
   "cell_type": "code",
   "execution_count": 1,
   "metadata": {
    "tags": [
     "hide_input",
     "hide_output"
    ]
   },
   "outputs": [
    {
     "data": {
      "text/html": [
       "        <script type=\"text/javascript\">\n",
       "        window.PlotlyConfig = {MathJaxConfig: 'local'};\n",
       "        if (window.MathJax) {MathJax.Hub.Config({SVG: {font: \"STIX-Web\"}});}\n",
       "        if (typeof require !== 'undefined') {\n",
       "        require.undef(\"plotly\");\n",
       "        requirejs.config({\n",
       "            paths: {\n",
       "                'plotly': ['https://cdn.plot.ly/plotly-2.11.1.min']\n",
       "            }\n",
       "        });\n",
       "        require(['plotly'], function(Plotly) {\n",
       "            window._Plotly = Plotly;\n",
       "        });\n",
       "        }\n",
       "        </script>\n",
       "        "
      ]
     },
     "metadata": {},
     "output_type": "display_data"
    }
   ],
   "source": [
    "import numpy as np\n",
    "import plotly as ply\n",
    "import plotly.graph_objects as go\n",
    "from IPython.display import HTML, IFrame\n",
    "from plotly.offline import init_notebook_mode, plot\n",
    "init_notebook_mode(connected=True)"
   ]
  },
  {
   "cell_type": "code",
   "execution_count": 2,
   "metadata": {
    "tags": [
     "hide_input",
     "hide_output"
    ]
   },
   "outputs": [],
   "source": [
    "def show(figure, local=False):\n",
    "    ply.offline.plot(figure, filename=\"figure.html\", auto_open=False)\n",
    "    if local==True:\n",
    "        display(IFrame(\"figure.html\", width=800, height=800))\n",
    "    else:\n",
    "        display(HTML(\"figure.html\"))"
   ]
  },
  {
   "cell_type": "code",
   "execution_count": 5,
   "metadata": {},
   "outputs": [],
   "source": [
    "## plotting torus\n",
    "\n",
    "R = 2\n",
    "r = 1\n",
    "\n",
    "u, v = np.mgrid[0:2*np.pi:200j, 0:2*np.pi:200j]\n",
    "x = (R+r*np.cos(v)) * np.cos(u)\n",
    "y = (R+r*np.cos(v)) * np.sin(u)\n",
    "z = r*np.sin(v)\n",
    "torus = go.Surface(x=x, y=y, z=z)"
   ]
  },
  {
   "cell_type": "code",
   "execution_count": 6,
   "metadata": {
    "tags": [
     "hide_input",
     "hide_output"
    ]
   },
   "outputs": [
    {
     "data": {
      "text/html": [
       "\n",
       "        <iframe\n",
       "            width=\"800\"\n",
       "            height=\"800\"\n",
       "            src=\"figure.html\"\n",
       "            frameborder=\"0\"\n",
       "            allowfullscreen\n",
       "            \n",
       "        ></iframe>\n",
       "        "
      ],
      "text/plain": [
       "<IPython.lib.display.IFrame at 0x7f369295f4f0>"
      ]
     },
     "metadata": {},
     "output_type": "display_data"
    }
   ],
   "source": [
    "fig = go.Figure()\n",
    "fig.add_trace(torus)\n",
    "fig.update_traces(showscale=False)\n",
    "fig.update_layout(\n",
    "    scene = dict(\n",
    "        xaxis = dict(\n",
    "            color=\"rgb(255, 255, 255)\",\n",
    "            showbackground=False,\n",
    "            showgrid = False,\n",
    "            showspikes = False\n",
    "        ),\n",
    "        yaxis = dict(\n",
    "            color=\"rgb(255, 255, 255)\",\n",
    "            showbackground=False,\n",
    "            showgrid = False,\n",
    "            showspikes = False\n",
    "        ),\n",
    "        zaxis = dict(\n",
    "            color=\"rgb(255, 255, 255)\",\n",
    "            showbackground=False,\n",
    "            showgrid = False,\n",
    "            showspikes = False\n",
    "        ))\n",
    "    )"
   ]
  },
  {
   "cell_type": "code",
   "execution_count": null,
   "metadata": {},
   "outputs": [],
   "source": [
    "show(fig)#local=True)"
   ]
  }
 ],
 "metadata": {
  "celltoolbar": "Edit Metadata",
  "kernelspec": {
   "display_name": "Python 3 (ipykernel)",
   "language": "python",
   "name": "python3"
  },
  "language_info": {
   "codemirror_mode": {
    "name": "ipython",
    "version": 3
   },
   "file_extension": ".py",
   "mimetype": "text/x-python",
   "name": "python",
   "nbconvert_exporter": "python",
   "pygments_lexer": "ipython3",
   "version": "3.8.10"
  },
  "widgets": {
   "application/vnd.jupyter.widget-state+json": {
    "state": {},
    "version_major": 2,
    "version_minor": 0
   }
  }
 },
 "nbformat": 4,
 "nbformat_minor": 4
}
